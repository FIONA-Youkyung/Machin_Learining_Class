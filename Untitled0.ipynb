{
  "nbformat": 4,
  "nbformat_minor": 0,
  "metadata": {
    "colab": {
      "name": "Untitled0.ipynb",
      "provenance": [],
      "authorship_tag": "ABX9TyNidELn3ZgQqRMHFR9wWipg",
      "include_colab_link": true
    },
    "kernelspec": {
      "name": "python3",
      "display_name": "Python 3"
    }
  },
  "cells": [
    {
      "cell_type": "markdown",
      "metadata": {
        "id": "view-in-github",
        "colab_type": "text"
      },
      "source": [
        "<a href=\"https://colab.research.google.com/github/FIONA-Youkyung/Machin_Learining_Class/blob/master/Untitled0.ipynb\" target=\"_parent\"><img src=\"https://colab.research.google.com/assets/colab-badge.svg\" alt=\"Open In Colab\"/></a>"
      ]
    },
    {
      "cell_type": "code",
      "metadata": {
        "id": "MkVTw1BHi1CV",
        "colab_type": "code",
        "colab": {
          "base_uri": "https://localhost:8080/",
          "height": 53
        },
        "outputId": "5365066a-4677-4f0c-898b-c102b1c29702"
      },
      "source": [
        " !pip install mnist\n",
        "\n",
        " from PIL import Image\n",
        " import numpy as np\n",
        " from google.colab import files\n",
        " from scipy.signal import convolve,correlate,convolve2d"
      ],
      "execution_count": 21,
      "outputs": [
        {
          "output_type": "stream",
          "text": [
            "Requirement already satisfied: mnist in /usr/local/lib/python3.6/dist-packages (0.2.2)\n",
            "Requirement already satisfied: numpy in /usr/local/lib/python3.6/dist-packages (from mnist) (1.17.5)\n"
          ],
          "name": "stdout"
        }
      ]
    },
    {
      "cell_type": "code",
      "metadata": {
        "id": "jr4FiaBJ2_zt",
        "colab_type": "code",
        "colab": {}
      },
      "source": [
        "uploaded = files.upload()\n",
        "\n",
        "for fn in uploaded.keys():\n",
        "  print('User uploaded file \"{name}\" with length {length} bytes'.format(\n",
        "      name=fn, length=len(uploaded[fn])))"
      ],
      "execution_count": 0,
      "outputs": []
    },
    {
      "cell_type": "code",
      "metadata": {
        "id": "3q9gm0VQ3JaE",
        "colab_type": "code",
        "colab": {}
      },
      "source": [
        "uploaded2 = files.upload()\n",
        "\n",
        "for fn in uploaded2.keys():\n",
        "  print('User uploaded file \"{name}\" with length {length} bytes'.format(\n",
        "      name=fn, length=len(uploaded[fn])))"
      ],
      "execution_count": 0,
      "outputs": []
    },
    {
      "cell_type": "code",
      "metadata": {
        "id": "tm8H3MwPzFQ0",
        "colab_type": "code",
        "colab": {
          "base_uri": "https://localhost:8080/",
          "height": 35
        },
        "outputId": "82adc493-9a58-4cdd-b850-904d73946482"
      },
      "source": [
        "from mnist import load_mnist\n",
        "\n",
        "if __name__ == '__main__' : \n",
        "  img = Image.open('image.jpg')\n",
        "  img_pixel = np.array(img)\n",
        "  print(img_pixel.shape)\n"
      ],
      "execution_count": 15,
      "outputs": [
        {
          "output_type": "stream",
          "text": [
            "(853, 1280, 3)\n"
          ],
          "name": "stdout"
        }
      ]
    },
    {
      "cell_type": "code",
      "metadata": {
        "id": "TRfe16ct0gKl",
        "colab_type": "code",
        "colab": {}
      },
      "source": [
        " (x_train, y_train), (x_test, y_test) = load_mnist(normalize=False,\n",
        "                                                      flatten=False)"
      ],
      "execution_count": 0,
      "outputs": []
    },
    {
      "cell_type": "markdown",
      "metadata": {
        "id": "CQZrXcvu9OSb",
        "colab_type": "text"
      },
      "source": [
        "Convolustion Network "
      ]
    },
    {
      "cell_type": "code",
      "metadata": {
        "id": "5cO6O7Yy-ltl",
        "colab_type": "code",
        "colab": {
          "base_uri": "https://localhost:8080/",
          "height": 143
        },
        "outputId": "c3d023d5-eed4-4014-aa7e-fc388685754d"
      },
      "source": [
        "x= np.random.randint(10,size=(3,4,4))\n",
        "w= np.random.randint(5,size=(3,3,3))\n",
        "conv1 = correlate(x,w,mode='valid')\n",
        "print('w',w[0])\n",
        "print(conv1)\n",
        "\n",
        "def convolution_3d(x,w) : \n",
        "  rows = x.shape[1] - w.shape[1]+1\n",
        "  cols = x.shape[2] - w.shape[2] +1\n",
        "  conv = np.zeros((rows,cols))\n",
        "  for i in range(rows) : \n",
        "    for j in range(cols):\n",
        "      x_sub = x[:,i:(i+w.shape[0]),j:j+w.shape[1]]\n",
        "      conv[i][j] =np.sum(x_sub*w)\n",
        "  return(conv)\n",
        "      \n",
        "print(convolution_3d(x,w))\n",
        "\n"
      ],
      "execution_count": 60,
      "outputs": [
        {
          "output_type": "stream",
          "text": [
            "w [[0 4 4]\n",
            " [0 1 0]\n",
            " [3 1 1]]\n",
            "[[[267 209]\n",
            "  [185 227]]]\n",
            "[[267. 209.]\n",
            " [185. 227.]]\n"
          ],
          "name": "stdout"
        }
      ]
    },
    {
      "cell_type": "code",
      "metadata": {
        "id": "nyzbOXSxkv3r",
        "colab_type": "code",
        "colab": {
          "base_uri": "https://localhost:8080/",
          "height": 71
        },
        "outputId": "ecaf1d58-3e5a-42a0-853d-52a182e0bb72"
      },
      "source": [
        "np.random.seed(114)\n",
        "x= np.random.randint(10,size = 10)\n",
        "x2d= np.random.randint(12,size = (2,6))\n",
        "print(x2d)\n",
        "\n",
        "def pooling(x,pool_size,stride =1) : \n",
        "  n= x.shape[0]\n",
        "  result_size = ((n-pool_size)//stride)+1\n",
        "  result = np.zeros(result_size)\n",
        "  for i in range(result_size):\n",
        "    x_sub = x[i*(stride):i*(stride)+pool_size]\n",
        "    print(x_sub)\n",
        "\n",
        "def pooling2d(x,pool_h,pool_w,stride=1):\n",
        "  x_w,x_h = x.shape[0],x.shape[1]\n",
        "  result_size_w= ((x_w-pool_w)//stride)+1\n",
        "  result_size_h =((x_h-pool_h)//stride)+1\n",
        "  result = np.zeros((result_size_w,result_size_h))\n",
        "  for i in range(result_size_w): \n",
        "    for j in range(result_size_h) : \n",
        "      x_sub = x[i*(stride):i*(stride)+pool_h,j*(stride):j*(stride)+pool_w]\n",
        "      result[i][j] = np.max(x_sub)\n",
        "  return (result)\n",
        "\n",
        "z= pooling2d(x2d,2,2,2)\n",
        "print(z)\n",
        "\n"
      ],
      "execution_count": 111,
      "outputs": [
        {
          "output_type": "stream",
          "text": [
            "[[ 0  3  5  7  0  5]\n",
            " [ 4  6 11  9  4  0]]\n",
            "[[ 6. 11.  5.]]\n"
          ],
          "name": "stdout"
        }
      ]
    }
  ]
}