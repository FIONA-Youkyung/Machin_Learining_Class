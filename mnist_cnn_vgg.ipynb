{
  "nbformat": 4,
  "nbformat_minor": 0,
  "metadata": {
    "colab": {
      "name": "mnist_cnn_vgg.ipynb",
      "provenance": [],
      "collapsed_sections": [],
      "authorship_tag": "ABX9TyNXYZRMOs9Vk1xnQSNl2YNq",
      "include_colab_link": true
    },
    "kernelspec": {
      "name": "python3",
      "display_name": "Python 3"
    },
    "accelerator": "GPU"
  },
  "cells": [
    {
      "cell_type": "markdown",
      "metadata": {
        "id": "view-in-github",
        "colab_type": "text"
      },
      "source": [
        "<a href=\"https://colab.research.google.com/github/FIONA-Youkyung/Machin_Learining_Class/blob/master/mnist_cnn_vgg.ipynb\" target=\"_parent\"><img src=\"https://colab.research.google.com/assets/colab-badge.svg\" alt=\"Open In Colab\"/></a>"
      ]
    },
    {
      "cell_type": "code",
      "metadata": {
        "id": "Xl2ibDsKRiYQ",
        "colab_type": "code",
        "colab": {
          "base_uri": "https://localhost:8080/",
          "height": 35
        },
        "outputId": "6bfde3d1-c4d1-4eaa-886b-2815e4ebdf3f"
      },
      "source": [
        "%tensorflow_version 2.x"
      ],
      "execution_count": 1,
      "outputs": [
        {
          "output_type": "stream",
          "text": [
            "TensorFlow 2.x selected.\n"
          ],
          "name": "stdout"
        }
      ]
    },
    {
      "cell_type": "code",
      "metadata": {
        "id": "dpVK-qz-SARM",
        "colab_type": "code",
        "colab": {
          "base_uri": "https://localhost:8080/",
          "height": 53
        },
        "outputId": "0f6c353d-2f7a-4d37-addb-4f2b33dbd207"
      },
      "source": [
        "import tensorflow as tf\n",
        "print(tf.__version__)\n",
        "print(tf.test.gpu_device_name())"
      ],
      "execution_count": 3,
      "outputs": [
        {
          "output_type": "stream",
          "text": [
            "2.1.0-rc1\n",
            "/device:GPU:0\n"
          ],
          "name": "stdout"
        }
      ]
    },
    {
      "cell_type": "code",
      "metadata": {
        "id": "vcHeJop5Si5L",
        "colab_type": "code",
        "colab": {}
      },
      "source": [
        "from tensorflow.keras.datasets import mnist\n",
        "import os \n",
        "import matplotlib.pyplot as plt \n",
        "import numpy \n",
        "from tensorflow.keras import Sequential\n",
        "from tensorflow.keras.layers import Conv2D,MaxPool2D,Dropout,Flatten,Dense\n",
        "from tensorflow.keras.utils import to_categorical\n",
        "from tensorflow.keras.callbacks import EarlyStopping, ModelCheckpoint "
      ],
      "execution_count": 0,
      "outputs": []
    },
    {
      "cell_type": "code",
      "metadata": {
        "id": "AKUD4wCFTGoK",
        "colab_type": "code",
        "colab": {
          "base_uri": "https://localhost:8080/",
          "height": 89
        },
        "outputId": "33e08190-0608-4aaa-ecaf-a4fb9933a347"
      },
      "source": [
        "(X_train,Y_train),(X_test,Y_test) = mnist.load_data()\n",
        "print(X_train.shape)\n",
        "print(X_test.shape)\n",
        "print(Y_train.shape)\n",
        "print(Y_test.shape)\n",
        "\n",
        "# 4차원 데이터로 X_train과 X_test 변경 \n",
        "X_train = X_train.reshape(*X_train.shape,1)\n",
        "X_test = X_test.reshape(*X_test.shape,1)\n",
        "#Y_train 과 Y_test를 One-hot-encoding으로 변환 \n",
        "Y_train = to_categorical(Y_train,num_classes=10,dtype='float16')\n",
        "Y_test = to_categorical(Y_test,num_classes=10,dtype='float16')\n",
        "\n",
        "# X_train과 X_test 정규화 \n",
        "X_train = X_train.astype('float16') / 255\n",
        "X_test = X_test.astype('float16') / 255"
      ],
      "execution_count": 23,
      "outputs": [
        {
          "output_type": "stream",
          "text": [
            "(60000, 28, 28)\n",
            "(10000, 28, 28)\n",
            "(60000,)\n",
            "(10000,)\n"
          ],
          "name": "stdout"
        }
      ]
    },
    {
      "cell_type": "code",
      "metadata": {
        "id": "8xEZWOHvUZ70",
        "colab_type": "code",
        "colab": {}
      },
      "source": [
        "model = Sequential()"
      ],
      "execution_count": 0,
      "outputs": []
    },
    {
      "cell_type": "code",
      "metadata": {
        "id": "2T6XnEz_Uc_j",
        "colab_type": "code",
        "colab": {}
      },
      "source": [
        "# Conv2D -> Conv2D -> Maxpool2D -> Dropout -> Flateen -> Dense -> Dropout -> Dense\n",
        "model.add(Conv2D(filters = 32,kernel_size = (3,3),activation = 'relu', input_shape =(28,28,1)))\n",
        "model.add(Conv2D(filters = 64,kernel_size = (3,3),activation = 'relu', input_shape =(28,28,1)))\n",
        "model.add(MaxPool2D(pool_size=2))\n",
        "model.add(Dropout(0.25))\n",
        "model.add(Flatten())\n",
        "model.add(Dense(128,activation = 'relu'))\n",
        "model.add(Dropout(0.5))\n",
        "model.add(Dense(10,activation = 'softmax'))"
      ],
      "execution_count": 0,
      "outputs": []
    },
    {
      "cell_type": "code",
      "metadata": {
        "id": "2kGjoiv1Wv7s",
        "colab_type": "code",
        "colab": {}
      },
      "source": [
        "model.compile(loss ='categorical_crossentropy',\n",
        "              optimizer = 'adam',\n",
        "              metrics=['accuracy'])"
      ],
      "execution_count": 0,
      "outputs": []
    },
    {
      "cell_type": "code",
      "metadata": {
        "id": "Z5jfciU8Wzpj",
        "colab_type": "code",
        "colab": {
          "base_uri": "https://localhost:8080/",
          "height": 701
        },
        "outputId": "4157979e-fc48-4ac3-f82b-95d6a9c4a5f0"
      },
      "source": [
        "# 신경망 모델의 성능 향상이 없는 경우 중간에  epoch를 빨리 중지 시키기 위해서 \n",
        "\n",
        "early_stop = EarlyStopping(monitor='val_loss',\n",
        "                           verbose = 1,\n",
        "                           patience = 10\n",
        "                           )\n",
        "\n",
        "# 신경망 학습 \n",
        "history = model.fit(X_train,Y_train,batch_size = 200, epochs=50,verbose =1,callbacks=[early_stop],validation_data=(X_test,Y_test))"
      ],
      "execution_count": 17,
      "outputs": [
        {
          "output_type": "stream",
          "text": [
            "Train on 60000 samples, validate on 10000 samples\n",
            "Epoch 1/50\n",
            "60000/60000 [==============================] - 11s 181us/sample - loss: 0.2708 - accuracy: 0.9174 - val_loss: 0.0535 - val_accuracy: 0.9823\n",
            "Epoch 2/50\n",
            "60000/60000 [==============================] - 3s 57us/sample - loss: 0.0854 - accuracy: 0.9747 - val_loss: 0.0391 - val_accuracy: 0.9858\n",
            "Epoch 3/50\n",
            "60000/60000 [==============================] - 3s 57us/sample - loss: 0.0625 - accuracy: 0.9812 - val_loss: 0.0357 - val_accuracy: 0.9876\n",
            "Epoch 4/50\n",
            "60000/60000 [==============================] - 3s 57us/sample - loss: 0.0519 - accuracy: 0.9838 - val_loss: 0.0297 - val_accuracy: 0.9897\n",
            "Epoch 5/50\n",
            "60000/60000 [==============================] - 3s 57us/sample - loss: 0.0416 - accuracy: 0.9869 - val_loss: 0.0287 - val_accuracy: 0.9906\n",
            "Epoch 6/50\n",
            "60000/60000 [==============================] - 3s 57us/sample - loss: 0.0377 - accuracy: 0.9881 - val_loss: 0.0311 - val_accuracy: 0.9890\n",
            "Epoch 7/50\n",
            "60000/60000 [==============================] - 3s 57us/sample - loss: 0.0331 - accuracy: 0.9895 - val_loss: 0.0294 - val_accuracy: 0.9900\n",
            "Epoch 8/50\n",
            "60000/60000 [==============================] - 3s 56us/sample - loss: 0.0307 - accuracy: 0.9901 - val_loss: 0.0279 - val_accuracy: 0.9914\n",
            "Epoch 9/50\n",
            "60000/60000 [==============================] - 3s 57us/sample - loss: 0.0283 - accuracy: 0.9907 - val_loss: 0.0323 - val_accuracy: 0.9895\n",
            "Epoch 10/50\n",
            "60000/60000 [==============================] - 3s 57us/sample - loss: 0.0259 - accuracy: 0.9915 - val_loss: 0.0293 - val_accuracy: 0.9909\n",
            "Epoch 11/50\n",
            "60000/60000 [==============================] - 3s 56us/sample - loss: 0.0233 - accuracy: 0.9922 - val_loss: 0.0290 - val_accuracy: 0.9924\n",
            "Epoch 12/50\n",
            "60000/60000 [==============================] - 3s 56us/sample - loss: 0.0212 - accuracy: 0.9928 - val_loss: 0.0283 - val_accuracy: 0.9920\n",
            "Epoch 13/50\n",
            "60000/60000 [==============================] - 3s 56us/sample - loss: 0.0199 - accuracy: 0.9930 - val_loss: 0.0294 - val_accuracy: 0.9911\n",
            "Epoch 14/50\n",
            "60000/60000 [==============================] - 3s 57us/sample - loss: 0.0188 - accuracy: 0.9940 - val_loss: 0.0368 - val_accuracy: 0.9907\n",
            "Epoch 15/50\n",
            "60000/60000 [==============================] - 3s 57us/sample - loss: 0.0187 - accuracy: 0.9936 - val_loss: 0.0313 - val_accuracy: 0.9917\n",
            "Epoch 16/50\n",
            "60000/60000 [==============================] - 3s 57us/sample - loss: 0.0179 - accuracy: 0.9939 - val_loss: 0.0294 - val_accuracy: 0.9917\n",
            "Epoch 17/50\n",
            "60000/60000 [==============================] - 3s 57us/sample - loss: 0.0158 - accuracy: 0.9947 - val_loss: 0.0292 - val_accuracy: 0.9916\n",
            "Epoch 18/50\n",
            "60000/60000 [==============================] - 3s 56us/sample - loss: 0.0146 - accuracy: 0.9950 - val_loss: 0.0298 - val_accuracy: 0.9923\n",
            "Epoch 00018: early stopping\n"
          ],
          "name": "stdout"
        }
      ]
    },
    {
      "cell_type": "code",
      "metadata": {
        "id": "G9KReFoZXJPr",
        "colab_type": "code",
        "colab": {
          "base_uri": "https://localhost:8080/",
          "height": 265
        },
        "outputId": "067a947b-82de-4e49-f43f-c619d7728460"
      },
      "source": [
        "#손실 그래프\n",
        "train_loss = history.history['loss']\n",
        "test_loss = history.history['val_loss']\n",
        "\n",
        "x= range(len(train_loss))\n",
        "plt.plot(x,train_loss,marker ='.',color ='red',label = 'Train_loss')\n",
        "plt.plot(x,test_loss,marker ='.',color ='blue',label = 'Test_loss')\n",
        "plt.legend() \n",
        "plt.show()"
      ],
      "execution_count": 18,
      "outputs": [
        {
          "output_type": "display_data",
          "data": {
            "image/png": "[encoded data removed]",
            "text/plain": [
              "<Figure size 432x288 with 1 Axes>"
            ]
          },
          "metadata": {
            "tags": []
          }
        }
      ]
    },
    {
      "cell_type": "code",
      "metadata": {
        "id": "kCwSUQKJXNfz",
        "colab_type": "code",
        "colab": {
          "base_uri": "https://localhost:8080/",
          "height": 265
        },
        "outputId": "561a8afe-8e20-4338-b8eb-de4b7bc6d5b3"
      },
      "source": [
        "# 정확도 그래프 \n",
        "train_acc = history.history['accuracy']\n",
        "test_acc = history.history['val_accuracy']\n",
        "\n",
        "x= range(len(train_acc))\n",
        "plt.plot(x,train_acc,marker ='.',color ='red',label = 'Train_acc')\n",
        "plt.plot(x,test_acc,marker ='.',color ='blue',label = 'Test_acc')\n",
        "plt.legend() \n",
        "plt.show()"
      ],
      "execution_count": 19,
      "outputs": [
        {
          "output_type": "display_data",
          "data": {
            "image/png": "[encoded data removed]",
            "text/plain": [
              "<Figure size 432x288 with 1 Axes>"
            ]
          },
          "metadata": {
            "tags": []
          }
        }
      ]
    }
  ]
}